{
 "cells": [
  {
   "cell_type": "markdown",
   "metadata": {},
   "source": [
    "## Generating Names with a Character-level Language Modelling\n",
    "* Dataset use: Dinosaur names [dataset](../input/dinos.txt)\n",
    "* Language modelling: Character-level language modelling\n",
    "* Dataset size: 19909 Names\n",
    "* Character vocabulary size: 26"
   ]
  },
  {
   "cell_type": "code",
   "execution_count": 1,
   "metadata": {
    "_cell_guid": "b1076dfc-b9ad-4769-8c92-a6c4dae69d19",
    "_uuid": "8f2839f25d086af736a60e9eeb907d3b93b6e0e5"
   },
   "outputs": [
    {
     "name": "stdout",
     "output_type": "stream",
     "text": [
      "['dinos.txt']\n"
     ]
    }
   ],
   "source": [
    "from __future__ import unicode_literals, print_function, division\n",
    "import numpy as np \n",
    "import pandas as pd \n",
    "from io import open\n",
    "import glob\n",
    "import unicodedata\n",
    "import string\n",
    "import random\n",
    "import torch\n",
    "import torch.nn as nn\n",
    "import torch.nn.functional as F\n",
    "import torch.optim as optim\n",
    "import matplotlib.pyplot as plt\n",
    "\n",
    "import os\n",
    "print(os.listdir(\"../input\"))"
   ]
  },
  {
   "cell_type": "markdown",
   "metadata": {},
   "source": [
    "## Load the data\n",
    "Following code will read the dataset of dinosaur names, creates a list of unique characters (such as a-z) or vocabulary, and compute the dataset and vocabulary size."
   ]
  },
  {
   "cell_type": "code",
   "execution_count": 2,
   "metadata": {},
   "outputs": [
    {
     "name": "stdout",
     "output_type": "stream",
     "text": [
      "['a', 'b', 'c', 'd', 'e', 'f', 'g', 'h', 'i', 'j', 'k', 'l', 'm', 'n', 'o', 'p', 'q', 'r', 's', 't', 'u', 'v', 'w', 'x', 'y', 'z'] Data size: 19909 Chars length: 26\n"
     ]
    }
   ],
   "source": [
    "data = open(\"../input/dinos.txt\", \"r\").read()\n",
    "data = data.lower()\n",
    "chars = list(sorted(set(data)))\n",
    "chars.pop(0) #remove \\n character\n",
    "data_size, chars_size = len(data), len(chars)\n",
    "\n",
    "print(chars, \"Data size: {}\".format(data_size), \"Chars length: {}\".format(chars_size))"
   ]
  },
  {
   "cell_type": "markdown",
   "metadata": {},
   "source": [
    "### Store data in a list"
   ]
  },
  {
   "cell_type": "code",
   "execution_count": 3,
   "metadata": {},
   "outputs": [],
   "source": [
    "with open(\"../input/dinos.txt\") as f:\n",
    "    examples = f.readlines()\n",
    "examples = [x.lower().strip() for x in examples]"
   ]
  },
  {
   "cell_type": "markdown",
   "metadata": {},
   "source": [
    "In the cell below, we create a python dictionary to map each character to an index from 0-26. We also create a second python dictionary that maps each index back to the corresponding character character. This will help you figure out what index corresponds to what character. Below, `char_to_ix` and `ix_to_char` are the python dictionaries."
   ]
  },
  {
   "cell_type": "code",
   "execution_count": 4,
   "metadata": {},
   "outputs": [],
   "source": [
    "char_to_ix = { ch:i for i, ch in enumerate(sorted(chars)) }\n",
    "ix_to_char = { i:ch for i, ch in enumerate(sorted(chars)) }"
   ]
  },
  {
   "cell_type": "markdown",
   "metadata": {},
   "source": [
    "## Model\n",
    "* Simple RNN\n",
    "* 128 hidden memory cells\n",
    "<img src=\"https://i.imgur.com/LMCgZDX.png\" width=\"250px\"/>"
   ]
  },
  {
   "cell_type": "code",
   "execution_count": 5,
   "metadata": {},
   "outputs": [],
   "source": [
    "class RNN(nn.Module):\n",
    "    \n",
    "    def __init__(self, input_size, hidden_size, output_size):\n",
    "        super(RNN, self).__init__()\n",
    "        \n",
    "        self.hidden_size = hidden_size\n",
    "        self.i2o = nn.Linear(input_size + hidden_size, output_size)\n",
    "        self.i2h = nn.Linear(input_size + hidden_size, hidden_size)\n",
    "        self.softmax = nn.LogSoftmax(dim=1)\n",
    "    \n",
    "    def forward(self, input, hidden):\n",
    "        combined = torch.cat((input, hidden), 1)\n",
    "        hidden = self.i2h(combined)\n",
    "        output = self.i2o(combined)\n",
    "        output = self.softmax(output)\n",
    "        return output, hidden\n",
    "    \n",
    "    def initHidden(self):\n",
    "        return torch.zeros(1, self.hidden_size)"
   ]
  },
  {
   "cell_type": "markdown",
   "metadata": {},
   "source": [
    "## One-hot vector representation\n",
    "Below code generates one-hot vector(or tensor) for a given word"
   ]
  },
  {
   "cell_type": "code",
   "execution_count": 6,
   "metadata": {},
   "outputs": [],
   "source": [
    "def inputTensor(word):\n",
    "    tensor = torch.zeros(len(word), 1, chars_size + 1)\n",
    "    for i in range(len(word)):\n",
    "        letter = word[i]\n",
    "        tensor[i][0][char_to_ix[letter]] = 1\n",
    "    return tensor\n",
    "\n",
    "def targetTensor(word):\n",
    "    letter_indexes = [char_to_ix[word[i]] for i in range(1, len(word))]\n",
    "    letter_indexes.append(chars_size) # EOS\n",
    "    return torch.LongTensor(letter_indexes)"
   ]
  },
  {
   "cell_type": "markdown",
   "metadata": {},
   "source": [
    "## Training\n",
    "* No. of iterations: 35000\n",
    "* Plot loss for every: 500 iterations\n",
    "* Loss Function: CrossEntropyLoss()\n",
    "* Optimization function or weight update rule: SGD(Stochastic Gradient Descent)\n",
    "* Learning Rate: 0.0005"
   ]
  },
  {
   "cell_type": "code",
   "execution_count": 7,
   "metadata": {},
   "outputs": [],
   "source": [
    "rnn = RNN(chars_size + 1, 128 , chars_size + 1)\n",
    "\n",
    "num_iterations = 35000\n",
    "print_every = 2000\n",
    "plot_every = 500\n",
    "all_losses = []\n",
    "total_loss = 0.0\n",
    "\n",
    "criterion = nn.CrossEntropyLoss()\n",
    "optimizer = optim.SGD(rnn.parameters(), lr=0.0005)\n",
    "np.random.shuffle(examples)\n",
    "\n",
    "def train(input_tensor, target_tensor):\n",
    "    target_tensor.unsqueeze_(-1)\n",
    "    hidden = rnn.initHidden()\n",
    "    \n",
    "    optimizer.zero_grad()\n",
    "    \n",
    "    loss = 0.0\n",
    "    \n",
    "    for i in range(input_tensor.size(0)):\n",
    "        output, hidden = rnn(input_tensor[i], hidden)\n",
    "        l = criterion(output, target_tensor[i])\n",
    "        loss += l\n",
    "        \n",
    "    loss.backward()\n",
    "    optimizer.step()\n",
    "    \n",
    "    return output, loss.item() / input_tensor.size(0)"
   ]
  },
  {
   "cell_type": "markdown",
   "metadata": {},
   "source": [
    "For convenience during training, randomTrainingExample function fetches a random word from dataset and turns it into the required (input, target) tensors."
   ]
  },
  {
   "cell_type": "code",
   "execution_count": 8,
   "metadata": {},
   "outputs": [],
   "source": [
    "def randomTrainingExample():\n",
    "    word = examples[random.randint(0, len(examples) - 1)]\n",
    "    input_tensor = inputTensor(word)\n",
    "    target_tensor = targetTensor(word)\n",
    "    return input_tensor, target_tensor"
   ]
  },
  {
   "cell_type": "markdown",
   "metadata": {},
   "source": [
    "## Sampling\n",
    "To sample we give the network a letter and ask what the next one is, feed that in as the next letter, and repeat until the EOS token.\n",
    "\n",
    "* Create tensors for starting letter, and empty hidden state\n",
    "* Create a string `output_name` with the starting letter\n",
    "* Up to a maximum output length,\n",
    "   * Feed the current letter to the network\n",
    "   * Get the next letter from highest output, and next hidden state\n",
    "   * If the letter is EOS, stop here\n",
    "   * If a regular letter, add to `output_name` and continue\n",
    "* Return the final name\n"
   ]
  },
  {
   "cell_type": "code",
   "execution_count": 9,
   "metadata": {},
   "outputs": [],
   "source": [
    "max_length = 20\n",
    "\n",
    "# Sample from a category and starting letter\n",
    "def sample(start_letter='A'):\n",
    "    with torch.no_grad():  # no need to track history in sampling\n",
    "        input = inputTensor(start_letter.lower())\n",
    "        hidden = rnn.initHidden()\n",
    "\n",
    "        output_name = start_letter\n",
    "\n",
    "        for i in range(max_length):\n",
    "            output, hidden = rnn(input[0], hidden)\n",
    "            topv, topi = output.topk(1)\n",
    "            topi = topi[0][0]\n",
    "            if topi == chars_size:\n",
    "                break\n",
    "            else:\n",
    "                letter = ix_to_char[topi.item()]\n",
    "                output_name += letter\n",
    "            input = inputTensor(letter)\n",
    "\n",
    "        return output_name\n",
    "\n",
    "def samples(start_letters='ABC'):\n",
    "    for start_letter in start_letters:\n",
    "        print(sample(start_letter))"
   ]
  },
  {
   "cell_type": "markdown",
   "metadata": {},
   "source": [
    "Train the model for given num_iterations"
   ]
  },
  {
   "cell_type": "code",
   "execution_count": 10,
   "metadata": {},
   "outputs": [
    {
     "name": "stdout",
     "output_type": "stream",
     "text": [
      "(2000 5 %) 2.6173\n",
      "sauraaaurus\n",
      "gaaaaaaaur\n",
      "eaaaaaaaur\n",
      "qaaaaaaaur\n",
      "sauraaaurus\n",
      "(4000 11 %) 1.5299\n",
      "urasaurus\n",
      "iaaaoaaaurus\n",
      "ganoaaoras\n",
      "banoaaoras\n",
      "iaaaoaaaurus\n",
      "(6000 17 %) 2.4479\n",
      "wanosaurus\n",
      "vanosaurus\n",
      "panosaurus\n",
      "ranoosaurus\n",
      "lanosaurus\n",
      "(8000 22 %) 2.5389\n",
      "banooaarus\n",
      "panoosaurus\n",
      "lanooaarus\n",
      "kanooaarus\n",
      "panoosaurus\n",
      "(10000 28 %) 2.3350\n",
      "osaurus\n",
      "zanosaurus\n",
      "kanosaurus\n",
      "manosaurus\n",
      "vanosaurus\n",
      "(12000 34 %) 2.4238\n",
      "ganosaurus\n",
      "eranoosaurus\n",
      "ranoosaurus\n",
      "urasaurus\n",
      "kanosaurus\n",
      "(14000 40 %) 2.0107\n",
      "hanosaurus\n",
      "banosaurus\n",
      "zanosaurus\n",
      "janosaurus\n",
      "fanosaurus\n",
      "(16000 45 %) 2.5356\n",
      "janosaurus\n",
      "saurus\n",
      "aurusaurus\n",
      "oranoosaurus\n",
      "janosaurus\n",
      "(18000 51 %) 2.1069\n",
      "canosaurus\n",
      "fanosaurus\n",
      "kanosaurus\n",
      "hanosaurus\n",
      "canosaurus\n",
      "(20000 57 %) 2.6384\n",
      "fanosaurus\n",
      "yanosaurus\n",
      "oranoosaurus\n",
      "zanosaurus\n",
      "janosaurus\n",
      "(22000 62 %) 2.1105\n",
      "manosaurus\n",
      "nanosaurus\n",
      "uranosaurus\n",
      "yanosaurus\n",
      "panosaurus\n",
      "(24000 68 %) 0.7992\n",
      "xanosaurus\n",
      "hanosaurus\n",
      "orantosaurus\n",
      "eratopsaurus\n",
      "wanosaurus\n",
      "(26000 74 %) 1.8205\n",
      "banosaurus\n",
      "banosaurus\n",
      "ranosaurus\n",
      "manosaurus\n",
      "tanosaurus\n",
      "(28000 80 %) 2.3326\n",
      "aurusaurus\n",
      "uranosaurus\n",
      "ranosaurus\n",
      "wanosaurus\n",
      "yanosaurus\n",
      "(30000 85 %) 2.2310\n",
      "xanosaurus\n",
      "ceratops\n",
      "tanosaurus\n",
      "eratopsaurus\n",
      "manosaurus\n",
      "(32000 91 %) 1.6235\n",
      "tanosaurus\n",
      "ganianosaurus\n",
      "kanosaurus\n",
      "qanosaurus\n",
      "ianosaurus\n",
      "(34000 97 %) 0.9962\n",
      "natorantos\n",
      "donanosaurus\n",
      "zanosaurus\n",
      "wanosaurus\n",
      "ganianosaurus\n"
     ]
    }
   ],
   "source": [
    "for iter in range(1, num_iterations + 1):\n",
    "    output, loss = train(*randomTrainingExample())\n",
    "    total_loss += loss\n",
    "\n",
    "    if iter % print_every == 0:\n",
    "        print('(%d %d %%) %.4f' % (iter, iter / num_iterations * 100, loss))\n",
    "        for name in range(5):\n",
    "            print(sample(ix_to_char[random.randint(0, chars_size-1)]))\n",
    "\n",
    "    if iter % plot_every == 0:\n",
    "        all_losses.append(total_loss / plot_every)\n",
    "        total_loss = 0.0"
   ]
  },
  {
   "cell_type": "markdown",
   "metadata": {},
   "source": [
    "## Plot the losses"
   ]
  },
  {
   "cell_type": "code",
   "execution_count": 11,
   "metadata": {},
   "outputs": [
    {
     "data": {
      "text/plain": [
       "Text(0, 0.5, 'Loss')"
      ]
     },
     "execution_count": 11,
     "metadata": {},
     "output_type": "execute_result"
    },
    {
     "data": {
      "image/png": "[encoded data removed]",
      "text/plain": [
       "<Figure size 432x288 with 1 Axes>"
      ]
     },
     "metadata": {},
     "output_type": "display_data"
    }
   ],
   "source": [
    "plt.figure()\n",
    "plt.plot(all_losses)\n",
    "plt.xlabel('Iteration')\n",
    "plt.ylabel('Loss')"
   ]
  },
  {
   "cell_type": "markdown",
   "metadata": {},
   "source": [
    "Below code prints all the names(a-z) generated"
   ]
  },
  {
   "cell_type": "code",
   "execution_count": 12,
   "metadata": {},
   "outputs": [
    {
     "name": "stdout",
     "output_type": "stream",
     "text": [
      "aurusaurus\n",
      "banosaurus\n",
      "ceratops\n",
      "donanosaurus\n",
      "eratopsaurus\n",
      "fanosaurus\n",
      "ganianosaurus\n",
      "hanosaurus\n",
      "ianosaurus\n",
      "janosaurus\n",
      "kanosaurus\n",
      "lanosaurus\n",
      "manosaurus\n",
      "natorantos\n",
      "orantosaurus\n",
      "panosaurus\n",
      "qanosaurus\n",
      "ratopanrosaurus\n",
      "saurus\n",
      "tanosaurus\n",
      "uranosaurus\n",
      "vanatorantos\n",
      "wanosaurus\n",
      "xanosaurus\n",
      "yanosaurus\n",
      "zanosaurus\n"
     ]
    }
   ],
   "source": [
    "for i in range(len(ix_to_char)):\n",
    "    print(sample(ix_to_char[i]))"
   ]
  }
 ],
 "metadata": {
  "kernelspec": {
   "display_name": "Python 3",
   "language": "python",
   "name": "python3"
  },
  "language_info": {
   "codemirror_mode": {
    "name": "ipython",
    "version": 3
   },
   "file_extension": ".py",
   "mimetype": "text/x-python",
   "name": "python",
   "nbconvert_exporter": "python",
   "pygments_lexer": "ipython3",
   "version": "3.6.4"
  }
 },
 "nbformat": 4,
 "nbformat_minor": 1
}
